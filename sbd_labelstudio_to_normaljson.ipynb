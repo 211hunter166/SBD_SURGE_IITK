{
 "cells": [
  {
   "cell_type": "code",
   "execution_count": 26,
   "metadata": {},
   "outputs": [],
   "source": [
    "import json"
   ]
  },
  {
   "cell_type": "code",
   "execution_count": 27,
   "metadata": {},
   "outputs": [
    {
     "name": "stdout",
     "output_type": "stream",
     "text": [
      "583\n"
     ]
    }
   ],
   "source": [
    "with open(\".\\input\\myannotated_tasks.json\",'r') as f:\n",
    "    data = json.load(f)\n",
    "\n",
    "print(len(data))"
   ]
  },
  {
   "cell_type": "code",
   "execution_count": 28,
   "metadata": {},
   "outputs": [
    {
     "data": {
      "text/plain": [
       "{'start': 0,\n",
       " 'end': 604,\n",
       " 'text': 'Reportable\\r\\n\\r\\n\\r\\n\\r\\nIN THE SUPREME COURT OF INDIA\\r\\n\\r\\nCIVIL APPELLATE JURISDICTION\\r\\n\\r\\n\\r\\n\\r\\nCIVIL APPEAL NO.8164 OF 2016\\r\\n\\r\\n(ARISING OUT OF SLP(C) No. 13369 of 2013)\\r\\n\\r\\n\\r\\n\\r\\nShri Vimal Kishor Shah & Ors. Appellant(s)\\r\\n\\r\\n\\r\\n\\r\\nVERSUS\\r\\n\\r\\n\\r\\n\\r\\nMr. Jayesh Dinesh Shah & Ors. Respondent(s)\\r\\n\\r\\n\\r\\n\\r\\nJUDGMENT\\r\\n\\r\\n\\r\\n\\r\\nAbhay Manohar Sapre, J',\n",
       " 'labels': ['Sentence']}"
      ]
     },
     "execution_count": 28,
     "metadata": {},
     "output_type": "execute_result"
    }
   ],
   "source": [
    "data[0]['annotations'][0]['result'][0]['value']"
   ]
  },
  {
   "cell_type": "code",
   "execution_count": 29,
   "metadata": {},
   "outputs": [],
   "source": [
    "import os, json\n",
    "\n",
    "input_dir=\".\\input\"\n",
    "output_dir=\".\\output\"\n",
    "my_docs = [5, 6, 7, 8, 10, 11, 12, 13, 14, 16, 17, 18, 20, 21, 22, 23, 29]\n",
    "\n",
    "for i, file in enumerate(os.listdir(input_dir)):\n",
    "    if \".json\" in file:\n",
    "        data = json.load(open(input_dir+\"/\"+file,\"r\"))\n",
    "        newdata={}\n",
    "\n",
    "        for doc in data:\n",
    "            ann = []\n",
    "            if doc['id'] in my_docs:\n",
    "                newdata['random_'+str(doc['id'])] = {}\n",
    "                newdata['random_'+str(doc['id'])]['text'] = doc['data']['text']\n",
    "                result = doc['annotations'][0]['result']\n",
    "                for val in result:\n",
    "                    ann.append({\n",
    "                        \"start\" : val['value']['start'],\n",
    "                        \"end\" : val['value']['end']\n",
    "                        })\n",
    "                newdata['random_'+str(doc['id'])]['annotations'] = ann\n",
    "\n",
    "        \n",
    "\n",
    "        with open(output_dir+'/file_'+str(i)+\".json\",\"w\") as f:\n",
    "            json.dump(newdata, f, indent = 4)\n"
   ]
  },
  {
   "cell_type": "code",
   "execution_count": 33,
   "metadata": {},
   "outputs": [
    {
     "name": "stdout",
     "output_type": "stream",
     "text": [
      "dict_keys(['random_5', 'random_6', 'random_7', 'random_8', 'random_10', 'random_11', 'random_12', 'random_13', 'random_14', 'random_16', 'random_17', 'random_18', 'random_20', 'random_21', 'random_22', 'random_23', 'random_29'])\n"
     ]
    }
   ],
   "source": [
    "with open('./output/file_0.json') as f:\n",
    "    output = json.load(f)\n",
    "\n",
    "print(output.keys())"
   ]
  },
  {
   "cell_type": "code",
   "execution_count": 36,
   "metadata": {},
   "outputs": [
    {
     "name": "stdout",
     "output_type": "stream",
     "text": [
      "random_5\n",
      "dict_keys(['text', 'annotations'])\n"
     ]
    }
   ],
   "source": [
    "for key in output:\n",
    "    print(key)\n",
    "    print(output[key].keys())\n",
    "    break"
   ]
  }
 ],
 "metadata": {
  "kernelspec": {
   "display_name": "Python 3",
   "language": "python",
   "name": "python3"
  },
  "language_info": {
   "codemirror_mode": {
    "name": "ipython",
    "version": 3
   },
   "file_extension": ".py",
   "mimetype": "text/x-python",
   "name": "python",
   "nbconvert_exporter": "python",
   "pygments_lexer": "ipython3",
   "version": "3.9.7"
  },
  "orig_nbformat": 4
 },
 "nbformat": 4,
 "nbformat_minor": 2
}
